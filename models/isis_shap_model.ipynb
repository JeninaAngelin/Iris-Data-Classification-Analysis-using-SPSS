{
  "nbformat": 4,
  "nbformat_minor": 0,
  "metadata": {
    "colab": {
      "provenance": []
    },
    "kernelspec": {
      "name": "python3",
      "display_name": "Python 3"
    },
    "language_info": {
      "name": "python"
    }
  },
  "cells": [
    {
      "cell_type": "code",
      "execution_count": 28,
      "metadata": {
        "id": "ec4iaWuVkG6_"
      },
      "outputs": [],
      "source": [
        "import shap\n",
        "import numpy as np\n",
        "import pandas as pd\n",
        "import matplotlib.pyplot as plt\n",
        "from sklearn.model_selection import train_test_split\n",
        "from sklearn.ensemble import RandomForestClassifier\n",
        "from sklearn.datasets import load_iris\n",
        "\n",
        "# Load dataset\n",
        "data = load_iris()\n",
        "df = pd.DataFrame(data.data, columns=data.feature_names)\n",
        "y = data.target\n",
        "\n",
        "# Split data\n",
        "X_train, X_test, y_train, y_test = train_test_split(df, y, test_size=0.2, random_state=42)\n",
        "\n",
        "# Train Random Forest Model\n",
        "model = RandomForestClassifier(n_estimators=100, random_state=42)\n",
        "model.fit(X_train, y_train)"
      ]
    },
    {
      "cell_type": "code",
      "source": [
        "print(X_train.shape)\n",
        "print(X_test.shape)\n"
      ],
      "metadata": {
        "colab": {
          "base_uri": "https://localhost:8080/"
        },
        "id": "FOkUKqSvkKL6",
        "outputId": "d628a4b6-f4df-42ce-e84e-d3488ab1b81a"
      },
      "execution_count": 2,
      "outputs": [
        {
          "output_type": "stream",
          "name": "stdout",
          "text": [
            "(120, 4)\n",
            "(30, 4)\n"
          ]
        }
      ]
    },
    {
      "cell_type": "code",
      "source": [
        "print(model.predict(X_test)[:5])  # Check model outputs\n"
      ],
      "metadata": {
        "colab": {
          "base_uri": "https://localhost:8080/"
        },
        "id": "3nKINafvkeIc",
        "outputId": "b2372c2b-1168-4eae-a9f5-8feec67a4bfe"
      },
      "execution_count": 3,
      "outputs": [
        {
          "output_type": "stream",
          "name": "stdout",
          "text": [
            "[1 0 2 1 1]\n"
          ]
        }
      ]
    },
    {
      "cell_type": "code",
      "source": [
        "explainer = shap.Explainer(model, X_train)\n",
        "shap_values = explainer(X_test, check_additivity=False)  # Still useful to disable check if needed"
      ],
      "metadata": {
        "id": "5X-j_fkOkpMX"
      },
      "execution_count": 4,
      "outputs": []
    },
    {
      "cell_type": "code",
      "source": [
        "shap_values = explainer(X_test, check_additivity=False)"
      ],
      "metadata": {
        "id": "zJ810LN9kv5g"
      },
      "execution_count": 8,
      "outputs": []
    },
    {
      "cell_type": "code",
      "source": [
        "shap_values"
      ],
      "metadata": {
        "colab": {
          "base_uri": "https://localhost:8080/"
        },
        "id": "ChPDX9Oek0YQ",
        "outputId": "270033e7-da3c-4bbc-c9a0-8345fd70be51"
      },
      "execution_count": 9,
      "outputs": [
        {
          "output_type": "execute_result",
          "data": {
            "text/plain": [
              ".values =\n",
              "array([[[-1.09833332e-02,  3.13749992e-02, -2.03916663e-02],\n",
              "        [-5.28333317e-03, -2.82500017e-03,  8.10833334e-03],\n",
              "        [-1.66466663e-01,  3.28358326e-01, -1.61891663e-01],\n",
              "        [-1.67966663e-01,  3.06591660e-01, -1.38624996e-01]],\n",
              "\n",
              "       [[-6.56666652e-03,  1.90416665e-02, -1.24749997e-02],\n",
              "        [ 3.51499992e-02, -2.20749994e-02, -1.30750000e-02],\n",
              "        [ 3.11616660e-01, -1.40774997e-01, -1.70841663e-01],\n",
              "        [ 3.09099993e-01, -1.82691663e-01, -1.26408332e-01]],\n",
              "\n",
              "       [[-1.83333326e-02, -2.81499998e-02,  4.64833321e-02],\n",
              "        [-2.99999991e-03,  3.94999981e-03, -9.49999742e-04],\n",
              "        [-1.66899997e-01, -1.55216663e-01,  3.22116660e-01],\n",
              "        [-1.62466663e-01, -1.17083331e-01,  2.79549995e-01]],\n",
              "\n",
              "       [[-1.29999998e-02,  4.29416658e-02, -2.99416661e-02],\n",
              "        [-3.24999989e-03, -2.47500019e-03,  5.72499997e-03],\n",
              "        [-1.66483330e-01,  3.31858326e-01, -1.65374996e-01],\n",
              "        [-1.67966663e-01,  2.91174994e-01, -1.23208330e-01]],\n",
              "\n",
              "       [[-1.31333330e-02,  5.90999987e-02, -4.59666660e-02],\n",
              "        [-4.08333321e-03, -1.95666665e-02,  2.36499999e-02],\n",
              "        [-1.69166663e-01,  2.20749995e-01, -5.15833314e-02],\n",
              "        [-1.64316663e-01,  3.03216659e-01, -1.38899996e-01]],\n",
              "\n",
              "       [[ 2.85999991e-02, -4.96666651e-03, -2.36333329e-02],\n",
              "        [ 2.21666655e-03,  8.38333335e-03, -1.06000001e-02],\n",
              "        [ 3.12416660e-01, -1.50666664e-01, -1.61749997e-01],\n",
              "        [ 3.06066660e-01, -1.79249996e-01, -1.26816665e-01]],\n",
              "\n",
              "       [[-1.29999998e-02,  3.50749994e-02, -2.20749996e-02],\n",
              "        [-3.24999989e-03, -3.80833348e-03,  7.05833333e-03],\n",
              "        [-1.66483330e-01,  3.41908326e-01, -1.75424996e-01],\n",
              "        [-1.67966663e-01,  3.00324993e-01, -1.32358330e-01]],\n",
              "\n",
              "       [[-2.02166657e-02,  1.14166663e-02,  8.79999980e-03],\n",
              "        [-3.00000024e-04,  6.16666394e-04, -3.16666717e-04],\n",
              "        [-1.66933330e-01, -1.00099997e-01,  2.67033328e-01],\n",
              "        [-1.63249997e-01, -1.58433330e-01,  3.21683328e-01]],\n",
              "\n",
              "       [[-1.09833332e-02,  2.18916662e-02, -1.09083330e-02],\n",
              "        [-5.28333317e-03, -6.92749988e-02,  7.45583323e-02],\n",
              "        [-1.66466663e-01,  3.12724993e-01, -1.46258330e-01],\n",
              "        [-1.67966663e-01,  2.68158328e-01, -1.00191664e-01]],\n",
              "\n",
              "       [[-1.09833332e-02,  3.56583328e-02, -2.46749994e-02],\n",
              "        [-5.28333317e-03,  7.54166650e-03, -2.25833328e-03],\n",
              "        [-1.66466663e-01,  3.27324993e-01, -1.60858330e-01],\n",
              "        [-1.67966663e-01,  3.02974993e-01, -1.35008330e-01]],\n",
              "\n",
              "       [[-2.02166657e-02, -2.67333330e-02,  4.69499990e-02],\n",
              "        [-3.00000024e-04,  1.73666665e-02, -1.70666666e-02],\n",
              "        [-1.66933330e-01, -1.30383330e-01,  2.97316661e-01],\n",
              "        [-1.63249997e-01, -1.36749997e-01,  2.99999993e-01]],\n",
              "\n",
              "       [[ 2.82499989e-02, -2.94666659e-02,  1.21666680e-03],\n",
              "        [ 9.50000002e-04, -3.05000006e-03,  2.10000001e-03],\n",
              "        [ 3.13416660e-01, -1.41833330e-01, -1.71583330e-01],\n",
              "        [ 3.06683327e-01, -1.52149997e-01, -1.54533330e-01]],\n",
              "\n",
              "       [[-1.92833330e-02,  3.38583328e-02, -1.45749997e-02],\n",
              "        [-2.58333328e-03,  1.39749999e-02, -1.13916666e-02],\n",
              "        [ 3.00583327e-01, -1.30541664e-01, -1.70041663e-01],\n",
              "        [ 3.10583326e-01, -1.83791663e-01, -1.26791665e-01]],\n",
              "\n",
              "       [[ 2.92166657e-02, -3.06833326e-02,  1.46666679e-03],\n",
              "        [ 2.21666655e-03, -1.88333339e-03, -3.33333373e-04],\n",
              "        [ 3.11183327e-01, -1.39933330e-01, -1.71249997e-01],\n",
              "        [ 3.06683327e-01, -1.53999997e-01, -1.52683330e-01]],\n",
              "\n",
              "       [[ 1.58999991e-02,  8.97499971e-03, -2.48749995e-02],\n",
              "        [ 1.27999998e-02, -1.64166655e-03, -1.11583334e-02],\n",
              "        [ 3.13033327e-01, -1.53241663e-01, -1.59791664e-01],\n",
              "        [ 3.07566660e-01, -1.80591663e-01, -1.26974998e-01]],\n",
              "\n",
              "       [[-1.47833330e-02,  2.42249992e-02, -9.44166660e-03],\n",
              "        [-2.03333330e-03,  2.56916662e-02, -2.36583331e-02],\n",
              "        [-1.65916663e-01,  3.27441659e-01, -1.61524996e-01],\n",
              "        [-1.67966663e-01,  2.76141660e-01, -1.08174997e-01]],\n",
              "\n",
              "       [[-1.87833325e-02, -2.10499998e-02,  3.98333326e-02],\n",
              "        [-1.16666662e-03, -1.08500000e-02,  1.20166666e-02],\n",
              "        [-1.67499997e-01, -1.70266663e-01,  3.37766660e-01],\n",
              "        [-1.63249997e-01, -1.24333330e-01,  2.87583328e-01]],\n",
              "\n",
              "       [[-1.09833332e-02,  3.39583327e-02, -2.29749995e-02],\n",
              "        [-5.28333317e-03,  8.08333328e-04,  4.47499995e-03],\n",
              "        [-1.66466663e-01,  3.33491659e-01, -1.67024997e-01],\n",
              "        [-1.67966663e-01,  3.05241660e-01, -1.37274997e-01]],\n",
              "\n",
              "       [[-1.09833332e-02,  4.38249992e-02, -3.28416661e-02],\n",
              "        [-5.28333317e-03, -1.34166680e-03,  6.62500001e-03],\n",
              "        [-1.66466663e-01,  3.29941659e-01, -1.63474996e-01],\n",
              "        [-1.67966663e-01,  3.01074993e-01, -1.33108330e-01]],\n",
              "\n",
              "       [[-1.67666659e-02, -1.87249999e-02,  3.54916660e-02],\n",
              "        [-3.19999991e-03, -8.67500007e-03,  1.18750000e-02],\n",
              "        [-1.67483330e-01, -1.65558330e-01,  3.33041660e-01],\n",
              "        [-1.63249997e-01, -1.23541664e-01,  2.86791662e-01]],\n",
              "\n",
              "       [[ 2.92166657e-02, -3.01666660e-02,  9.50000110e-04],\n",
              "        [ 2.21666655e-03,  8.10000003e-03, -1.03166668e-02],\n",
              "        [ 3.11183327e-01, -1.39349997e-01, -1.71833330e-01],\n",
              "        [ 3.06683327e-01, -1.65083330e-01, -1.41599998e-01]],\n",
              "\n",
              "       [[-1.73166660e-02, -3.35666659e-02,  5.08833326e-02],\n",
              "        [-1.51666661e-03, -3.61833332e-02,  3.77000001e-02],\n",
              "        [-1.66233330e-01,  1.88000008e-02,  1.47433331e-01],\n",
              "        [-1.65633330e-01, -1.95549995e-01,  3.61183327e-01]],\n",
              "\n",
              "       [[ 2.92166657e-02, -5.58333322e-03, -2.36333329e-02],\n",
              "        [ 2.21666655e-03,  8.31666669e-03, -1.05333334e-02],\n",
              "        [ 3.11183327e-01, -1.51433330e-01, -1.59749997e-01],\n",
              "        [ 3.06683327e-01, -1.77799996e-01, -1.28883332e-01]],\n",
              "\n",
              "       [[-1.67666659e-02, -1.87249999e-02,  3.54916660e-02],\n",
              "        [-3.19999991e-03, -8.67500007e-03,  1.18750000e-02],\n",
              "        [-1.67483330e-01, -1.65558330e-01,  3.33041660e-01],\n",
              "        [-1.63249997e-01, -1.23541664e-01,  2.86791662e-01]],\n",
              "\n",
              "       [[-2.09999989e-02, -4.07749995e-02,  6.17749985e-02],\n",
              "        [ 9.93333325e-03,  2.94166678e-03, -1.28749999e-02],\n",
              "        [-1.73799996e-01, -1.82358330e-01,  3.56158326e-01],\n",
              "        [-1.65833330e-01, -1.06308331e-01,  2.72141660e-01]],\n",
              "\n",
              "       [[-1.87833325e-02,  2.79999982e-03,  1.59833330e-02],\n",
              "        [-1.16666662e-03, -1.22000000e-02,  1.33666667e-02],\n",
              "        [-1.67499997e-01, -1.20349997e-01,  2.87849994e-01],\n",
              "        [-1.63249997e-01, -1.56749997e-01,  3.19999995e-01]],\n",
              "\n",
              "       [[-1.67666659e-02, -4.04166660e-03,  2.08083330e-02],\n",
              "        [-3.19999991e-03,  2.89166653e-03,  3.08333818e-04],\n",
              "        [-1.67483330e-01, -1.57258330e-01,  3.24741659e-01],\n",
              "        [-1.63249997e-01, -1.08091664e-01,  2.71341663e-01]],\n",
              "\n",
              "       [[-2.02166657e-02, -1.95583331e-02,  3.97749993e-02],\n",
              "        [-3.00000024e-04,  1.22916667e-02, -1.19916666e-02],\n",
              "        [-1.66933330e-01, -1.95591662e-01,  3.62524992e-01],\n",
              "        [-1.63249997e-01, -1.23641664e-01,  2.86891660e-01]],\n",
              "\n",
              "       [[ 2.82499989e-02, -2.94666659e-02,  1.21666680e-03],\n",
              "        [ 9.50000002e-04, -3.05000006e-03,  2.10000001e-03],\n",
              "        [ 3.13416660e-01, -1.41833330e-01, -1.71583330e-01],\n",
              "        [ 3.06683327e-01, -1.52149997e-01, -1.54533330e-01]],\n",
              "\n",
              "       [[ 2.92166657e-02, -3.06833326e-02,  1.46666679e-03],\n",
              "        [ 2.21666655e-03, -1.88333339e-03, -3.33333373e-04],\n",
              "        [ 3.11183327e-01, -1.39933330e-01, -1.71249997e-01],\n",
              "        [ 3.06683327e-01, -1.53999997e-01, -1.52683330e-01]]])\n",
              "\n",
              ".base_values =\n",
              "array([[0.3507, 0.3246, 0.3247],\n",
              "       [0.3507, 0.3246, 0.3247],\n",
              "       [0.3507, 0.3246, 0.3247],\n",
              "       [0.3507, 0.3246, 0.3247],\n",
              "       [0.3507, 0.3246, 0.3247],\n",
              "       [0.3507, 0.3246, 0.3247],\n",
              "       [0.3507, 0.3246, 0.3247],\n",
              "       [0.3507, 0.3246, 0.3247],\n",
              "       [0.3507, 0.3246, 0.3247],\n",
              "       [0.3507, 0.3246, 0.3247],\n",
              "       [0.3507, 0.3246, 0.3247],\n",
              "       [0.3507, 0.3246, 0.3247],\n",
              "       [0.3507, 0.3246, 0.3247],\n",
              "       [0.3507, 0.3246, 0.3247],\n",
              "       [0.3507, 0.3246, 0.3247],\n",
              "       [0.3507, 0.3246, 0.3247],\n",
              "       [0.3507, 0.3246, 0.3247],\n",
              "       [0.3507, 0.3246, 0.3247],\n",
              "       [0.3507, 0.3246, 0.3247],\n",
              "       [0.3507, 0.3246, 0.3247],\n",
              "       [0.3507, 0.3246, 0.3247],\n",
              "       [0.3507, 0.3246, 0.3247],\n",
              "       [0.3507, 0.3246, 0.3247],\n",
              "       [0.3507, 0.3246, 0.3247],\n",
              "       [0.3507, 0.3246, 0.3247],\n",
              "       [0.3507, 0.3246, 0.3247],\n",
              "       [0.3507, 0.3246, 0.3247],\n",
              "       [0.3507, 0.3246, 0.3247],\n",
              "       [0.3507, 0.3246, 0.3247],\n",
              "       [0.3507, 0.3246, 0.3247]])\n",
              "\n",
              ".data =\n",
              "array([[6.1, 2.8, 4.7, 1.2],\n",
              "       [5.7, 3.8, 1.7, 0.3],\n",
              "       [7.7, 2.6, 6.9, 2.3],\n",
              "       [6. , 2.9, 4.5, 1.5],\n",
              "       [6.8, 2.8, 4.8, 1.4],\n",
              "       [5.4, 3.4, 1.5, 0.4],\n",
              "       [5.6, 2.9, 3.6, 1.3],\n",
              "       [6.9, 3.1, 5.1, 2.3],\n",
              "       [6.2, 2.2, 4.5, 1.5],\n",
              "       [5.8, 2.7, 3.9, 1.2],\n",
              "       [6.5, 3.2, 5.1, 2. ],\n",
              "       [4.8, 3. , 1.4, 0.1],\n",
              "       [5.5, 3.5, 1.3, 0.2],\n",
              "       [4.9, 3.1, 1.5, 0.1],\n",
              "       [5.1, 3.8, 1.5, 0.3],\n",
              "       [6.3, 3.3, 4.7, 1.6],\n",
              "       [6.5, 3. , 5.8, 2.2],\n",
              "       [5.6, 2.5, 3.9, 1.1],\n",
              "       [5.7, 2.8, 4.5, 1.3],\n",
              "       [6.4, 2.8, 5.6, 2.2],\n",
              "       [4.7, 3.2, 1.6, 0.2],\n",
              "       [6.1, 3. , 4.9, 1.8],\n",
              "       [5. , 3.4, 1.6, 0.4],\n",
              "       [6.4, 2.8, 5.6, 2.1],\n",
              "       [7.9, 3.8, 6.4, 2. ],\n",
              "       [6.7, 3. , 5.2, 2.3],\n",
              "       [6.7, 2.5, 5.8, 1.8],\n",
              "       [6.8, 3.2, 5.9, 2.3],\n",
              "       [4.8, 3. , 1.4, 0.3],\n",
              "       [4.8, 3.1, 1.6, 0.2]])"
            ]
          },
          "metadata": {},
          "execution_count": 9
        }
      ]
    },
    {
      "cell_type": "code",
      "source": [
        "import shap\n",
        "import numpy as np\n",
        "import pandas as pd\n",
        "import matplotlib.pyplot as plt\n",
        "from sklearn.model_selection import train_test_split\n",
        "from sklearn.ensemble import RandomForestClassifier\n",
        "from sklearn.datasets import load_iris\n",
        "\n",
        "# Load dataset\n",
        "data = load_iris()\n",
        "df = pd.DataFrame(data.data, columns=data.feature_names)\n",
        "y = data.target\n",
        "\n",
        "# Split data\n",
        "X_train, X_test, y_train, y_test = train_test_split(df, y, test_size=0.2, random_state=42)\n",
        "\n",
        "# Train Random Forest Model\n",
        "model = RandomForestClassifier(n_estimators=100, random_state=42)\n",
        "model.fit(X_train, y_train)\n",
        "\n",
        "print(X_train.shape)\n",
        "print(X_test.shape)\n",
        "print(model.predict(X_test)[:5])  # Check model outputs"
      ],
      "metadata": {
        "colab": {
          "base_uri": "https://localhost:8080/"
        },
        "id": "raoG_4A7lDTZ",
        "outputId": "9fbf8101-818d-47e1-8364-b8170e8f4f59"
      },
      "execution_count": 10,
      "outputs": [
        {
          "output_type": "stream",
          "name": "stdout",
          "text": [
            "(120, 4)\n",
            "(30, 4)\n",
            "[1 0 2 1 1]\n"
          ]
        }
      ]
    },
    {
      "cell_type": "code",
      "source": [
        "explainer = shap.Explainer(model, X_train)\n",
        "shap_values = explainer.shap_values(X_test, check_additivity=False)\n",
        "\n",
        "shap_values"
      ],
      "metadata": {
        "colab": {
          "base_uri": "https://localhost:8080/"
        },
        "id": "-sLhxSATlviO",
        "outputId": "418b84f6-ae85-46b1-bd54-c79b1811ede3"
      },
      "execution_count": 14,
      "outputs": [
        {
          "output_type": "execute_result",
          "data": {
            "text/plain": [
              "array([[[-1.09833332e-02,  3.13749992e-02, -2.03916663e-02],\n",
              "        [-5.28333317e-03, -2.82500017e-03,  8.10833334e-03],\n",
              "        [-1.66466663e-01,  3.28358326e-01, -1.61891663e-01],\n",
              "        [-1.67966663e-01,  3.06591660e-01, -1.38624996e-01]],\n",
              "\n",
              "       [[-6.56666652e-03,  1.90416665e-02, -1.24749997e-02],\n",
              "        [ 3.51499992e-02, -2.20749994e-02, -1.30750000e-02],\n",
              "        [ 3.11616660e-01, -1.40774997e-01, -1.70841663e-01],\n",
              "        [ 3.09099993e-01, -1.82691663e-01, -1.26408332e-01]],\n",
              "\n",
              "       [[-1.83333326e-02, -2.81499998e-02,  4.64833321e-02],\n",
              "        [-2.99999991e-03,  3.94999981e-03, -9.49999742e-04],\n",
              "        [-1.66899997e-01, -1.55216663e-01,  3.22116660e-01],\n",
              "        [-1.62466663e-01, -1.17083331e-01,  2.79549995e-01]],\n",
              "\n",
              "       [[-1.29999998e-02,  4.29416658e-02, -2.99416661e-02],\n",
              "        [-3.24999989e-03, -2.47500019e-03,  5.72499997e-03],\n",
              "        [-1.66483330e-01,  3.31858326e-01, -1.65374996e-01],\n",
              "        [-1.67966663e-01,  2.91174994e-01, -1.23208330e-01]],\n",
              "\n",
              "       [[-1.31333330e-02,  5.90999987e-02, -4.59666660e-02],\n",
              "        [-4.08333321e-03, -1.95666665e-02,  2.36499999e-02],\n",
              "        [-1.69166663e-01,  2.20749995e-01, -5.15833314e-02],\n",
              "        [-1.64316663e-01,  3.03216659e-01, -1.38899996e-01]],\n",
              "\n",
              "       [[ 2.85999991e-02, -4.96666651e-03, -2.36333329e-02],\n",
              "        [ 2.21666655e-03,  8.38333335e-03, -1.06000001e-02],\n",
              "        [ 3.12416660e-01, -1.50666664e-01, -1.61749997e-01],\n",
              "        [ 3.06066660e-01, -1.79249996e-01, -1.26816665e-01]],\n",
              "\n",
              "       [[-1.29999998e-02,  3.50749994e-02, -2.20749996e-02],\n",
              "        [-3.24999989e-03, -3.80833348e-03,  7.05833333e-03],\n",
              "        [-1.66483330e-01,  3.41908326e-01, -1.75424996e-01],\n",
              "        [-1.67966663e-01,  3.00324993e-01, -1.32358330e-01]],\n",
              "\n",
              "       [[-2.02166657e-02,  1.14166663e-02,  8.79999980e-03],\n",
              "        [-3.00000024e-04,  6.16666394e-04, -3.16666717e-04],\n",
              "        [-1.66933330e-01, -1.00099997e-01,  2.67033328e-01],\n",
              "        [-1.63249997e-01, -1.58433330e-01,  3.21683328e-01]],\n",
              "\n",
              "       [[-1.09833332e-02,  2.18916662e-02, -1.09083330e-02],\n",
              "        [-5.28333317e-03, -6.92749988e-02,  7.45583323e-02],\n",
              "        [-1.66466663e-01,  3.12724993e-01, -1.46258330e-01],\n",
              "        [-1.67966663e-01,  2.68158328e-01, -1.00191664e-01]],\n",
              "\n",
              "       [[-1.09833332e-02,  3.56583328e-02, -2.46749994e-02],\n",
              "        [-5.28333317e-03,  7.54166650e-03, -2.25833328e-03],\n",
              "        [-1.66466663e-01,  3.27324993e-01, -1.60858330e-01],\n",
              "        [-1.67966663e-01,  3.02974993e-01, -1.35008330e-01]],\n",
              "\n",
              "       [[-2.02166657e-02, -2.67333330e-02,  4.69499990e-02],\n",
              "        [-3.00000024e-04,  1.73666665e-02, -1.70666666e-02],\n",
              "        [-1.66933330e-01, -1.30383330e-01,  2.97316661e-01],\n",
              "        [-1.63249997e-01, -1.36749997e-01,  2.99999993e-01]],\n",
              "\n",
              "       [[ 2.82499989e-02, -2.94666659e-02,  1.21666680e-03],\n",
              "        [ 9.50000002e-04, -3.05000006e-03,  2.10000001e-03],\n",
              "        [ 3.13416660e-01, -1.41833330e-01, -1.71583330e-01],\n",
              "        [ 3.06683327e-01, -1.52149997e-01, -1.54533330e-01]],\n",
              "\n",
              "       [[-1.92833330e-02,  3.38583328e-02, -1.45749997e-02],\n",
              "        [-2.58333328e-03,  1.39749999e-02, -1.13916666e-02],\n",
              "        [ 3.00583327e-01, -1.30541664e-01, -1.70041663e-01],\n",
              "        [ 3.10583326e-01, -1.83791663e-01, -1.26791665e-01]],\n",
              "\n",
              "       [[ 2.92166657e-02, -3.06833326e-02,  1.46666679e-03],\n",
              "        [ 2.21666655e-03, -1.88333339e-03, -3.33333373e-04],\n",
              "        [ 3.11183327e-01, -1.39933330e-01, -1.71249997e-01],\n",
              "        [ 3.06683327e-01, -1.53999997e-01, -1.52683330e-01]],\n",
              "\n",
              "       [[ 1.58999991e-02,  8.97499971e-03, -2.48749995e-02],\n",
              "        [ 1.27999998e-02, -1.64166655e-03, -1.11583334e-02],\n",
              "        [ 3.13033327e-01, -1.53241663e-01, -1.59791664e-01],\n",
              "        [ 3.07566660e-01, -1.80591663e-01, -1.26974998e-01]],\n",
              "\n",
              "       [[-1.47833330e-02,  2.42249992e-02, -9.44166660e-03],\n",
              "        [-2.03333330e-03,  2.56916662e-02, -2.36583331e-02],\n",
              "        [-1.65916663e-01,  3.27441659e-01, -1.61524996e-01],\n",
              "        [-1.67966663e-01,  2.76141660e-01, -1.08174997e-01]],\n",
              "\n",
              "       [[-1.87833325e-02, -2.10499998e-02,  3.98333326e-02],\n",
              "        [-1.16666662e-03, -1.08500000e-02,  1.20166666e-02],\n",
              "        [-1.67499997e-01, -1.70266663e-01,  3.37766660e-01],\n",
              "        [-1.63249997e-01, -1.24333330e-01,  2.87583328e-01]],\n",
              "\n",
              "       [[-1.09833332e-02,  3.39583327e-02, -2.29749995e-02],\n",
              "        [-5.28333317e-03,  8.08333328e-04,  4.47499995e-03],\n",
              "        [-1.66466663e-01,  3.33491659e-01, -1.67024997e-01],\n",
              "        [-1.67966663e-01,  3.05241660e-01, -1.37274997e-01]],\n",
              "\n",
              "       [[-1.09833332e-02,  4.38249992e-02, -3.28416661e-02],\n",
              "        [-5.28333317e-03, -1.34166680e-03,  6.62500001e-03],\n",
              "        [-1.66466663e-01,  3.29941659e-01, -1.63474996e-01],\n",
              "        [-1.67966663e-01,  3.01074993e-01, -1.33108330e-01]],\n",
              "\n",
              "       [[-1.67666659e-02, -1.87249999e-02,  3.54916660e-02],\n",
              "        [-3.19999991e-03, -8.67500007e-03,  1.18750000e-02],\n",
              "        [-1.67483330e-01, -1.65558330e-01,  3.33041660e-01],\n",
              "        [-1.63249997e-01, -1.23541664e-01,  2.86791662e-01]],\n",
              "\n",
              "       [[ 2.92166657e-02, -3.01666660e-02,  9.50000110e-04],\n",
              "        [ 2.21666655e-03,  8.10000003e-03, -1.03166668e-02],\n",
              "        [ 3.11183327e-01, -1.39349997e-01, -1.71833330e-01],\n",
              "        [ 3.06683327e-01, -1.65083330e-01, -1.41599998e-01]],\n",
              "\n",
              "       [[-1.73166660e-02, -3.35666659e-02,  5.08833326e-02],\n",
              "        [-1.51666661e-03, -3.61833332e-02,  3.77000001e-02],\n",
              "        [-1.66233330e-01,  1.88000008e-02,  1.47433331e-01],\n",
              "        [-1.65633330e-01, -1.95549995e-01,  3.61183327e-01]],\n",
              "\n",
              "       [[ 2.92166657e-02, -5.58333322e-03, -2.36333329e-02],\n",
              "        [ 2.21666655e-03,  8.31666669e-03, -1.05333334e-02],\n",
              "        [ 3.11183327e-01, -1.51433330e-01, -1.59749997e-01],\n",
              "        [ 3.06683327e-01, -1.77799996e-01, -1.28883332e-01]],\n",
              "\n",
              "       [[-1.67666659e-02, -1.87249999e-02,  3.54916660e-02],\n",
              "        [-3.19999991e-03, -8.67500007e-03,  1.18750000e-02],\n",
              "        [-1.67483330e-01, -1.65558330e-01,  3.33041660e-01],\n",
              "        [-1.63249997e-01, -1.23541664e-01,  2.86791662e-01]],\n",
              "\n",
              "       [[-2.09999989e-02, -4.07749995e-02,  6.17749985e-02],\n",
              "        [ 9.93333325e-03,  2.94166678e-03, -1.28749999e-02],\n",
              "        [-1.73799996e-01, -1.82358330e-01,  3.56158326e-01],\n",
              "        [-1.65833330e-01, -1.06308331e-01,  2.72141660e-01]],\n",
              "\n",
              "       [[-1.87833325e-02,  2.79999982e-03,  1.59833330e-02],\n",
              "        [-1.16666662e-03, -1.22000000e-02,  1.33666667e-02],\n",
              "        [-1.67499997e-01, -1.20349997e-01,  2.87849994e-01],\n",
              "        [-1.63249997e-01, -1.56749997e-01,  3.19999995e-01]],\n",
              "\n",
              "       [[-1.67666659e-02, -4.04166660e-03,  2.08083330e-02],\n",
              "        [-3.19999991e-03,  2.89166653e-03,  3.08333818e-04],\n",
              "        [-1.67483330e-01, -1.57258330e-01,  3.24741659e-01],\n",
              "        [-1.63249997e-01, -1.08091664e-01,  2.71341663e-01]],\n",
              "\n",
              "       [[-2.02166657e-02, -1.95583331e-02,  3.97749993e-02],\n",
              "        [-3.00000024e-04,  1.22916667e-02, -1.19916666e-02],\n",
              "        [-1.66933330e-01, -1.95591662e-01,  3.62524992e-01],\n",
              "        [-1.63249997e-01, -1.23641664e-01,  2.86891660e-01]],\n",
              "\n",
              "       [[ 2.82499989e-02, -2.94666659e-02,  1.21666680e-03],\n",
              "        [ 9.50000002e-04, -3.05000006e-03,  2.10000001e-03],\n",
              "        [ 3.13416660e-01, -1.41833330e-01, -1.71583330e-01],\n",
              "        [ 3.06683327e-01, -1.52149997e-01, -1.54533330e-01]],\n",
              "\n",
              "       [[ 2.92166657e-02, -3.06833326e-02,  1.46666679e-03],\n",
              "        [ 2.21666655e-03, -1.88333339e-03, -3.33333373e-04],\n",
              "        [ 3.11183327e-01, -1.39933330e-01, -1.71249997e-01],\n",
              "        [ 3.06683327e-01, -1.53999997e-01, -1.52683330e-01]]])"
            ]
          },
          "metadata": {},
          "execution_count": 14
        }
      ]
    },
    {
      "cell_type": "code",
      "source": [
        "shap.summary_plot(shap_values, X_test, feature_names=df.columns)"
      ],
      "metadata": {
        "colab": {
          "base_uri": "https://localhost:8080/",
          "height": 697
        },
        "id": "j5v8JsNHmcei",
        "outputId": "1490d850-787f-4304-c245-8821f88436d5"
      },
      "execution_count": 15,
      "outputs": [
        {
          "output_type": "display_data",
          "data": {
            "text/plain": [
              "<Figure size 1150x660 with 3 Axes>"
            ],
            "image/png": "[encoded data removed]"
          },
          "metadata": {}
        }
      ]
    },
    {
      "cell_type": "markdown",
      "source": [
        "📌 Interpretation of the SHAP Interaction Plot\n",
        "\n",
        "Axes:\n",
        "\n",
        "Y-axis: Feature names (sepal length, petal length, sepal width).\n",
        "\n",
        "X-axis: SHAP interaction values, showing how much each feature interaction contributes to the model's prediction.\n",
        "\n",
        "The title labels on the x-axis (sepal le..., petal le..., sepal wi...) indicate the features that are being analyzed for interactions.\n",
        "\n",
        "\n",
        "Dots:\n",
        "\n",
        "Each dot represents a data point from the dataset.\n",
        "Color coding:\n",
        "1. Red: Higher feature values.\n",
        "2. Blue: Lower feature values.\n",
        "3. Purple: Intermediate values.\n",
        "\n",
        "The spread of the dots indicates the degree of interaction between features.\n",
        "Feature Interactions:\n",
        "\n",
        "Each column represents the interaction between one feature (on the x-axis) and another feature (on the y-axis).\n",
        "The wider the spread of dots, the stronger the interaction between those features.\n",
        "\n",
        "🔍 Key Observations from Plot\n",
        "1. sepal length (cm) interacts with itself and petal length (cm) significantly.\n",
        "2. petal length (cm) has a noticeable interaction with sepal width (cm).\n",
        "3. The symmetry in interactions shows that the model relies on multiple features together to make decisions.\n",
        "\n",
        "Some interactions cluster around zero, meaning they have little impact on model predictions."
      ],
      "metadata": {
        "id": "-zU9WtP0nJQ1"
      }
    },
    {
      "cell_type": "code",
      "source": [
        "shap.waterfall_plot(shap.Explanation(values=shap_values[0][0], base_values=explainer.expected_value[0], data=X_test.iloc[0]))"
      ],
      "metadata": {
        "colab": {
          "base_uri": "https://localhost:8080/",
          "height": 348
        },
        "id": "wTehhT5ymmeN",
        "outputId": "8d7ca250-032b-46d8-8ee5-5461208a9a2b"
      },
      "execution_count": 22,
      "outputs": [
        {
          "output_type": "display_data",
          "data": {
            "text/plain": [
              "<Figure size 800x300 with 3 Axes>"
            ],
            "image/png": "[encoded data removed]"
          },
          "metadata": {}
        }
      ]
    },
    {
      "cell_type": "markdown",
      "source": [
        "Key Prediction Information:\n",
        "\n",
        "\n",
        "f(x): The model's predicted value for this instance (in this case, 0.351).\n",
        "\n",
        "E[f(x)]: The model's base value, or the average prediction over all training data (also 0.351 in this case).\n",
        "Feature Contributions:\n",
        "\n",
        "Each feature contributes positively or negatively to the prediction relative to the base value.\n",
        "Positive contributions (red) push the prediction higher, while negative contributions (blue) lower the prediction.\n",
        "\n",
        "\n",
        "Feature-specific Details:\n",
        "\n",
        "Sepal width (cm) (2.8): This feature adds +0.03 to the base value, increasing the prediction.\n",
        "\n",
        "Petal length (cm) (4.7): This feature subtracts -0.02 from the base value, decreasing the prediction.\n",
        "\n",
        "Sepal length (cm) (6.1): This feature subtracts -0.01 from the base value.\n",
        "Final Prediction:\n",
        "\n",
        "The sum of the base value and all feature contributions equals the final prediction\n",
        "𝑓(𝑥)=0.351"
      ],
      "metadata": {
        "id": "AE6oHYWMoPGq"
      }
    },
    {
      "cell_type": "code",
      "source": [
        "# ✅ Check SHAP values\n",
        "print(f\"SHAP values shape: {np.array(shap_values).shape}\")  # Should be (num_classes, num_samples, num_features)\n",
        "print(X_test.shape)  # Should print something like (30, 4)\n",
        "\n",
        "# Select SHAP values for class 0 (the third dimension)\n",
        "shap.summary_plot(shap_values[:, :, 0], X_test, feature_names=df.columns)\n",
        "\n"
      ],
      "metadata": {
        "colab": {
          "base_uri": "https://localhost:8080/",
          "height": 351
        },
        "id": "au2KrV-Plz-d",
        "outputId": "339c6bd5-d7ee-4cf5-f06e-ee844aa36fe1"
      },
      "execution_count": 27,
      "outputs": [
        {
          "output_type": "stream",
          "name": "stdout",
          "text": [
            "SHAP values shape: (30, 4, 3)\n",
            "(30, 4)\n"
          ]
        },
        {
          "output_type": "display_data",
          "data": {
            "text/plain": [
              "<Figure size 800x310 with 2 Axes>"
            ],
            "image/png": "[encoded data removed]"
          },
          "metadata": {}
        }
      ]
    },
    {
      "cell_type": "markdown",
      "source": [
        "Axes and Values:\n",
        "\n",
        "\n",
        "X-axis (SHAP value):\n",
        "\n",
        "The SHAP value indicates the impact of a feature on the model’s prediction.\n",
        "Positive SHAP values increase the prediction, while negative values decrease it.\n",
        "\n",
        "Y-axis (Features):\n",
        "\n",
        "Features are listed in descending order of importance, from top to bottom.\n",
        "\n",
        "\n",
        "Color Representation:\n",
        "\n",
        "\n",
        "Color Bar:\n",
        "Blue represents low feature values, while red represents high feature values.\n",
        "\n",
        "Dots:\n",
        "Each dot corresponds to one data point in the dataset.\n",
        "\n",
        "\n",
        "Feature-by-Feature Insights:\n",
        "\n",
        "\n",
        "Petal length (cm):\n",
        "\n",
        "High values (red dots) increase the prediction (positive SHAP values).\n",
        "\n",
        "Low values (blue dots) reduce the prediction (negative SHAP values).\n",
        "\n",
        "Petal width (cm):\n",
        "\n",
        "Similar to petal length, larger values positively impact the prediction.\n",
        "\n",
        "Sepal length (cm):\n",
        "\n",
        "Its impact is less significant compared to the petal-related features. Both high and low values contribute modestly to the prediction.\n",
        "\n",
        "Sepal width (cm):\n",
        "\n",
        "This feature has the smallest influence on the model, with most SHAP values clustered near zero.\n",
        "\n",
        "\n",
        "Summary:\n",
        "\n",
        "Petal-related features are the most influential in the model's predictions.\n",
        "Features with larger SHAP value ranges have a greater impact.\n",
        "The relationship between feature values (color) and SHAP values provides insights into how the feature affects the prediction."
      ],
      "metadata": {
        "id": "S_QjkVu0p0Pb"
      }
    },
    {
      "cell_type": "code",
      "source": [],
      "metadata": {
        "id": "_AiVLhZ7oaXC"
      },
      "execution_count": null,
      "outputs": []
    }
  ]
}